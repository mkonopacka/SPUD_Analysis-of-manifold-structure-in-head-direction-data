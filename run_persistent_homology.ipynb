{
 "cells": [
  {
   "attachments": {},
   "cell_type": "markdown",
   "metadata": {},
   "source": [
    "# Run persistent homology\n",
    "Running this notebook will:\n",
    "- Use Ripser to get Betti bar codes from saved rates. \n",
    "- If nCells > 10, dim reduce spike counts using Isomap. \n",
    "- Threshold out low density points if thresholded is True.\n",
    "\n",
    "**Ripster note:** required ripser package version can be installed on Ubuntu with:\n",
    "```\n",
    "pip install Cython\n",
    "pip install ripser==0.3.2\n",
    "```"
   ]
  },
  {
   "attachments": {},
   "cell_type": "markdown",
   "metadata": {},
   "source": [
    "## Setup"
   ]
  },
  {
   "cell_type": "code",
   "execution_count": 1,
   "metadata": {},
   "outputs": [
    {
     "name": "stdout",
     "output_type": "stream",
     "text": [
      "Reading data from ./general_params/general_params.pkl...\n",
      "Reading data from ./general_params/general_params.pkl...\n",
      "Session: Mouse28-140313, state: Wake\n"
     ]
    }
   ],
   "source": [
    "# General imports\n",
    "import sys, os\n",
    "import time, datetime\n",
    "import numpy as np\n",
    "import matplotlib.pyplot as plt\n",
    "import matplotlib.gridspec as gridspec\n",
    "from ripser import ripser as tda\n",
    "\n",
    "# Set random seed and get current date\n",
    "sd = int((time.time()%1)*(2**31))\n",
    "np.random.seed(sd)\n",
    "curr_date=datetime.datetime.now().strftime('%Y_%m_%d')+'_'\n",
    "\n",
    "# Import shared scirpts\n",
    "gen_fn_dir = os.path.abspath('.') + '/shared_scripts'\n",
    "sys.path.append(gen_fn_dir)\n",
    "\n",
    "import general_file_fns as gff\n",
    "from binned_spikes_class import spike_counts\n",
    "from dim_red_fns import run_dim_red\n",
    "from scipy.spatial.distance import pdist\n",
    "from sklearn import neighbors\n",
    "\n",
    "# Load general params\n",
    "gen_params = gff.load_pickle_file('./general_params/general_params.pkl')\n",
    "\n",
    "# Create directory for results\n",
    "save_dir = gff.return_dir(gen_params['results_dir'] + \"/TDA\")\n",
    "\n",
    "# Set up parameters\n",
    "session = 'Mouse28-140313'\n",
    "state = 'Wake'\n",
    "thresholded = False\n",
    "area = 'ADn'\n",
    "dt_kernel = 0.1\n",
    "sigma = 0.1\n",
    "smoothing_window = 10 \n",
    "rate_params = {'dt': dt_kernel, 'sigma': sigma}\n",
    "print(('Session: %s, state: %s' % (session, state)))"
   ]
  },
  {
   "attachments": {},
   "cell_type": "markdown",
   "metadata": {},
   "source": [
    "### Load and smooth kernel rates\n",
    "Smooth rates are \"downsampled\", averaged over some window rates."
   ]
  },
  {
   "cell_type": "code",
   "execution_count": 2,
   "metadata": {},
   "outputs": [
    {
     "name": "stdout",
     "output_type": "stream",
     "text": [
      "Loading spike counts from ./data/analyses/kernel_rates/100ms_sigma/Mouse28-140313.pkl...\n",
      "Reading data from ./general_params/area_shank_info.pkl...\n",
      "Loaded 22864 rates for each of 22 cells.\n"
     ]
    }
   ],
   "source": [
    "session_rates = spike_counts(session, rate_params, count_type='rate',anat_region=area)\n",
    "rates_all = session_rates.get_spike_matrix(state)[0]\n",
    "nCells_tot = rates_all.shape[1]\n",
    "print(f\"Loaded {rates_all.shape[0]} rates for each of {nCells_tot} cells.\")"
   ]
  },
  {
   "cell_type": "code",
   "execution_count": 3,
   "metadata": {},
   "outputs": [
    {
     "name": "stdout",
     "output_type": "stream",
     "text": [
      "Reduced number of rates to smooth_rates.shape = (2286, 22).\n"
     ]
    }
   ],
   "source": [
    "n_smooth_samples = np.floor(len(rates_all) / smoothing_window).astype(int)\n",
    "smooth_rates = np.zeros((n_smooth_samples, nCells_tot))\n",
    "for i in range(n_smooth_samples):\n",
    "    start_index = i * smoothing_window\n",
    "    end_index = (i + 1) * smoothing_window\n",
    "    smooth_rates[i] = np.mean(rates_all[start_index:end_index], axis=0)\n",
    "\n",
    "print(f\"Reduced number of rates to {smooth_rates.shape = }.\")"
   ]
  },
  {
   "attachments": {},
   "cell_type": "markdown",
   "metadata": {},
   "source": [
    "### If number of cells is greater than chosen fit_dim, reduce dimensionality\n",
    "TODO: describe why this step"
   ]
  },
  {
   "cell_type": "code",
   "execution_count": 4,
   "metadata": {},
   "outputs": [
    {
     "name": "stdout",
     "output_type": "stream",
     "text": [
      "Reducing dimensionality...\n",
      "rates.shape = (2286, 10)\n"
     ]
    }
   ],
   "source": [
    "# If number of cells is greater than fit_dim, reduce dimensionality\n",
    "fit_dim = 10\n",
    "if nCells_tot > fit_dim:\n",
    "    n_neighbors = 5\n",
    "    dr_method = 'iso'\n",
    "    dim_red_params = {'n_neighbors': n_neighbors, 'target_dim': fit_dim}\n",
    "    print(f\"Reducing dimensionality...\")\n",
    "    rates = run_dim_red(smooth_rates, params=dim_red_params, method=dr_method)\n",
    "else:### \n",
    "    rates = smooth_rates\n",
    "\n",
    "print(f\"{rates.shape = }\")"
   ]
  },
  {
   "attachments": {},
   "cell_type": "markdown",
   "metadata": {},
   "source": [
    "### Apply thresholding if wanted\n",
    "In so-called \"thresholded TDA\" part we eliminate outlier points by finding those with low neighbourhood density, i.e. we find all points in a specific radius abd if number of found neighbours is too low, we just remove point from dataset. Here we use radius equal to the 1st percentile of all pairwise distances between points and remove all points below 20th percentile in number of neighbours.\n",
    "\n",
    "**Question:** How does thresholding affect the results? TODO."
   ]
  },
  {
   "cell_type": "code",
   "execution_count": 5,
   "metadata": {},
   "outputs": [],
   "source": [
    "if thresholded:\n",
    "    # find number of neighbors of each point within radius of 1st percentile of all pairwise dist.\n",
    "    dist = pdist(rates, 'euclidean')\n",
    "    rad = np.percentile(dist, 1)\n",
    "    neigh = neighbors.NearestNeighbors() # create instance of NearestNeighbours class \n",
    "    neigh.fit(rates)\n",
    "    num_nbrs = np.array(list(map(len, neigh.radius_neighbors(X=rates, radius=rad,return_distance=False)))) # num_nbrs.shape = (rates.shape[0])\n",
    "\n",
    "    # threshold out points with low density\n",
    "    thresholded_prcnt = 20\n",
    "    threshold = np.percentile(num_nbrs, thresholded_prcnt)\n",
    "    thresholded_rates = rates[num_nbrs > threshold]\n",
    "    rates = thresholded_rates\n",
    "    print(f\"After thresholding: {rates.shape = }\")"
   ]
  },
  {
   "attachments": {},
   "cell_type": "markdown",
   "metadata": {},
   "source": [
    "## Computation of persistent homology\n",
    "In this part we use `ripser` function from `ripser` module, version 0.3.2 (here imported as `tda`) to compute barcodes.\n"
   ]
  },
  {
   "cell_type": "code",
   "execution_count": 7,
   "metadata": {},
   "outputs": [],
   "source": [
    "# Create dict for Betti numbers\n",
    "results = {'session': session, 'h0': [], 'h1': [], 'h2': []}"
   ]
  },
  {
   "cell_type": "code",
   "execution_count": 13,
   "metadata": {},
   "outputs": [
    {
     "name": "stdout",
     "output_type": "stream",
     "text": [
      "Computed H0 and H1 barcodes on all rates in 38.62s.\n"
     ]
    }
   ],
   "source": [
    "# H0 & H1\n",
    "tic = time.time()\n",
    "tda1 = tda(rates, maxdim=1, coeff=2)\n",
    "barcodes1 = tda1['dgms']\n",
    "results['h0'] = barcodes1[0]\n",
    "results['h1'] = barcodes1[1]\n",
    "tok = time.time()\n",
    "print(f\"Computed H0 and H1 barcodes on all rates in {(tok-tic):.2f}s.\")"
   ]
  },
  {
   "cell_type": "code",
   "execution_count": 15,
   "metadata": {},
   "outputs": [
    {
     "name": "stdout",
     "output_type": "stream",
     "text": [
      "Computed H0 and H1 barcodes on 2286 rates with n_perm = 900 in 150.89s.\n"
     ]
    }
   ],
   "source": [
    "# I replaced random subsampling originally implemented by researchers to make H2 computation faster with use of `n_perm` parameter in ripser function, which also subsamples\n",
    "# pointcloud, but in \"a more intelligent way\" (as far as I understand it). This procedure is described in docs, here: \n",
    "# https://ripser.scikit-tda.org/en/latest/notebooks/Greedy%20Subsampling%20for%20Fast%20Approximate%20Computation.html#\n",
    "n_perm = 900\n",
    "tic = time.time()\n",
    "tda2 = tda(rates, maxdim=2, coeff=2, n_perm = n_perm)\n",
    "tok = time.time()\n",
    "barcodes2 = tda2['dgms']\n",
    "results['h2'] = barcodes2[2]\n",
    "print(f\"Computed H0 and H1 barcodes on {len(rates)} rates with {n_perm = } in {(tok-tic):.2f}s.\")"
   ]
  },
  {
   "cell_type": "code",
   "execution_count": 10,
   "metadata": {},
   "outputs": [
    {
     "name": "stdout",
     "output_type": "stream",
     "text": [
      "Saving barcodes to ./data/analyses//TDAMouse28-140313_Wake_ph_barcodes.p\n",
      "Data saved to ./data/analyses//TDAMouse28-140313_Wake_ph_barcodes.p.\n"
     ]
    },
    {
     "data": {
      "text/plain": [
       "1"
      ]
     },
     "execution_count": 10,
     "metadata": {},
     "output_type": "execute_result"
    }
   ],
   "source": [
    "# Save computed barcodes\n",
    "save_to = save_dir + '%s_%s%s_ph_barcodes.p' % (session, state, ('_thresholded' * thresholded))\n",
    "print(f\"Saving barcodes to {save_to}\")\n",
    "gff.save_pickle_file(results, save_to)"
   ]
  },
  {
   "attachments": {},
   "cell_type": "markdown",
   "metadata": {},
   "source": [
    "### Plot barcodes"
   ]
  },
  {
   "cell_type": "code",
   "execution_count": 10,
   "metadata": {},
   "outputs": [
    {
     "data": {
      "image/png": "[encoded data removed]",
      "text/plain": [
       "<Figure size 1000x800 with 3 Axes>"
      ]
     },
     "metadata": {},
     "output_type": "display_data"
    }
   ],
   "source": [
    "col_list = ['r', 'g', 'm', 'c']\n",
    "h0, h1, h2 = results['h0'], results['h1'], results['h2']\n",
    "# replace the infinity bar (-1) in H0 by a really large number\n",
    "h0[~np.isfinite(h0)] = 100\n",
    "# Plot the longest barcodes only\n",
    "plot_prcnt = [99, 98, 90] # order is h0, h1, h2\n",
    "to_plot = []\n",
    "for curr_h, cutoff in zip([h0, h1, h2], plot_prcnt):\n",
    "        bar_lens = curr_h[:,1] - curr_h[:,0]\n",
    "        plot_h = curr_h[bar_lens > np.percentile(bar_lens, cutoff)]\n",
    "        to_plot.append(plot_h)\n",
    "\n",
    "fig = plt.figure(figsize=(10, 8))\n",
    "gs = gridspec.GridSpec(3, 4)\n",
    "for curr_betti, curr_bar in enumerate(to_plot):\n",
    "    ax = fig.add_subplot(gs[curr_betti, :])\n",
    "    ax.grid()\n",
    "    for i, interval in enumerate(reversed(curr_bar)):\n",
    "        ax.plot([interval[0], interval[1]], [i, i], color=col_list[curr_betti],lw=1.5)\n",
    "plt.show()\n"
   ]
  },
  {
   "attachments": {},
   "cell_type": "markdown",
   "metadata": {},
   "source": [
    "We can see that there are two persistent holes: one in $H_0$ an one in $H_1$. "
   ]
  },
  {
   "cell_type": "code",
   "execution_count": 11,
   "metadata": {},
   "outputs": [
    {
     "data": {
      "image/png": "[encoded data removed]",
      "text/plain": [
       "<Figure size 640x480 with 1 Axes>"
      ]
     },
     "metadata": {},
     "output_type": "display_data"
    }
   ],
   "source": [
    "from persim import plot_diagrams\n",
    "plot_diagrams([h0, h1, h2])"
   ]
  }
 ],
 "metadata": {
  "kernelspec": {
   "display_name": "TDA",
   "language": "python",
   "name": "python3"
  },
  "language_info": {
   "codemirror_mode": {
    "name": "ipython",
    "version": 3
   },
   "file_extension": ".py",
   "mimetype": "text/x-python",
   "name": "python",
   "nbconvert_exporter": "python",
   "pygments_lexer": "ipython3",
   "version": "3.9.0"
  },
  "orig_nbformat": 4
 },
 "nbformat": 4,
 "nbformat_minor": 2
}
